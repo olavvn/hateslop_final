{
 "cells": [
  {
   "cell_type": "code",
   "execution_count": 3,
   "metadata": {},
   "outputs": [],
   "source": [
    "import numpy as np\n",
    "import pandas as pd"
   ]
  },
  {
   "cell_type": "code",
   "execution_count": 34,
   "metadata": {},
   "outputs": [],
   "source": [
    "def load_data(path):\n",
    "    data = pd.read_csv(path, sep=';', encoding='ISO-8859-1')\n",
    "    return data\n",
    "\n",
    "def data_prep(data):\n",
    "    # ','를 '.'로 바꾸고 float 형식으로 변환\n",
    "    data['Rating Value'] = data['Rating Value'].astype(str).str.replace(',', '.').astype(float)\n",
    "    data['Perfume'] = data['Perfume'].astype(str).str.replace('-', ' ').astype(str)\n",
    "    data['Brand'] = data['Brand'].astype(str).str.replace('-', ' ').astype(str)\n",
    "    data['Year'] = data['Year'].fillna(0).astype(int)\n",
    "    data = data.replace({'unknown','Unknown',0, 0.0}, np.nan)\n",
    "    data['Year'] = data['Year'].fillna(0).astype(int)\n",
    "    return data\n",
    "\n",
    "\n",
    "def generate_description(data):\n",
    "    data['description'] = data.apply(\n",
    "        lambda row: (\n",
    "            f\"{row['Perfume'].capitalize()} by {row['Brand'].capitalize()} is a {row['Gender']} fragrance featuring top notes of {row['Top']}, \"\n",
    "            f\"middle notes of {row['Middle']}, and base notes of {row['Base']}. \"\n",
    "            f\"The main accords are {', '.join(filter(pd.notna, [row['mainaccord1'], row['mainaccord2'], row['mainaccord3'], row['mainaccord4'], row['mainaccord5']]))}. \"\n",
    "            f\"Released in {row['Year']} from {row['Country']}, this fragrance has a rating of {row['Rating Value']} out of 5 from {row['Rating Count']} votes. \"\n",
    "            f\"{('Crafted by perfumer ' + row['Perfumer1'].capitalize() + '.') if pd.notna(row['Perfumer1']) else ''} {(' and ' + row['Perfumer2'].capitalize()) if pd.notna(row['Perfumer2']) else ''}\"\n",
    "        ),\n",
    "        axis=1\n",
    "    )\n",
    "    return data\n",
    "\n",
    "\n",
    "def save_csv(data):\n",
    "    data.to_csv(\"./res/fragrantica_cleaned_with_description.csv\", sep=';', encoding='ISO-8859-1', index=False, header = True)\n",
    "    return"
   ]
  },
  {
   "cell_type": "code",
   "execution_count": 35,
   "metadata": {},
   "outputs": [],
   "source": [
    "data = load_data('fragrantica_cleaned.csv')\n",
    "data = data_prep(data)\n",
    "data = generate_description(data)\n",
    "save_csv(data)"
   ]
  },
  {
   "cell_type": "code",
   "execution_count": 33,
   "metadata": {},
   "outputs": [
    {
     "data": {
      "text/plain": [
       "'Peace love and juicy couture by juicy couture is a women fragrance featuring top notes of hyacinth, cassis, red apple, amalfi lemon, middle notes of red poppy, lime (linden) blossom, honeysuckle, jasmine, magnolia, and base notes of musk, patchouli, orris root. The main accords are floral, green, fruity, sweet, powdery. Released in 2010 from USA, this fragrance has a rating of 3.36 out of 5 from 1905 votes. Crafted by perfumer Rodrigo flores-roux. '"
      ]
     },
     "execution_count": 33,
     "metadata": {},
     "output_type": "execute_result"
    }
   ],
   "source": [
    "data['description'][500]"
   ]
  }
 ],
 "metadata": {
  "kernelspec": {
   "display_name": "venv",
   "language": "python",
   "name": "python3"
  },
  "language_info": {
   "codemirror_mode": {
    "name": "ipython",
    "version": 3
   },
   "file_extension": ".py",
   "mimetype": "text/x-python",
   "name": "python",
   "nbconvert_exporter": "python",
   "pygments_lexer": "ipython3",
   "version": "3.12.4"
  }
 },
 "nbformat": 4,
 "nbformat_minor": 2
}
